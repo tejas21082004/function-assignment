{
  "nbformat": 4,
  "nbformat_minor": 0,
  "metadata": {
    "colab": {
      "provenance": []
    },
    "kernelspec": {
      "name": "python3",
      "display_name": "Python 3"
    },
    "language_info": {
      "name": "python"
    }
  },
  "cells": [
    {
      "cell_type": "code",
      "execution_count": null,
      "metadata": {
        "id": "j71b9S9eGEry"
      },
      "outputs": [],
      "source": []
    },
    {
      "cell_type": "code",
      "source": [],
      "metadata": {
        "id": "7PC2ciW0GVC3"
      },
      "execution_count": null,
      "outputs": []
    },
    {
      "cell_type": "markdown",
      "source": [
        "#Q1\n"
      ],
      "metadata": {
        "id": "aBmJouymGVWo"
      }
    },
    {
      "cell_type": "markdown",
      "source": [
        "Function: A function is a block of code that performs a specific task. It is defined using the def keyword and can be called independently. Functions can be defined outside of classes and can take any number of parameters.\n",
        "\n",
        "Example:"
      ],
      "metadata": {
        "id": "7cB0PembIJ48"
      }
    },
    {
      "cell_type": "code",
      "source": [
        "def add(a, b):\n",
        "    return a + b\n"
      ],
      "metadata": {
        "id": "UtgoUGhXINXp"
      },
      "execution_count": null,
      "outputs": []
    },
    {
      "cell_type": "markdown",
      "source": [
        "A method is a function that is associated with an object and is typically called on an instance of a class. Methods are defined within a class and operate on the instance or class they belong to. The first parameter of a method is typically self (for instance methods) or cls (for class methods)."
      ],
      "metadata": {
        "id": "gF8o9j06IV9w"
      }
    },
    {
      "cell_type": "code",
      "source": [
        "class Calculator:\n",
        "    def add(self, a, b):\n",
        "        return a + b\n"
      ],
      "metadata": {
        "id": "VKFo4p3pIbA0"
      },
      "execution_count": null,
      "outputs": []
    },
    {
      "cell_type": "markdown",
      "source": [
        "#Q2"
      ],
      "metadata": {
        "id": "byZWF-sPGXwr"
      }
    },
    {
      "cell_type": "markdown",
      "source": [
        "Parameters: These are the variables that are defined in the function declaration. They specify what kind of input the function expects when it is called.\n",
        "\n",
        "Example:"
      ],
      "metadata": {
        "id": "8QOWY5wZIfmB"
      }
    },
    {
      "cell_type": "code",
      "source": [
        "def greet(name):  # 'name' is a parameter\n",
        "    print(f\"Hello, {name}!\")\n"
      ],
      "metadata": {
        "id": "Jg4iiEUBIrhI"
      },
      "execution_count": null,
      "outputs": []
    },
    {
      "cell_type": "markdown",
      "source": [
        "Arguments: These are the actual values that are passed to the function when it is called.\n",
        "\n",
        "Example:"
      ],
      "metadata": {
        "id": "qhlG6evVI1MC"
      }
    },
    {
      "cell_type": "code",
      "source": [
        "greet(\"Alice\")  # \"Alice\" is the argument\n"
      ],
      "metadata": {
        "colab": {
          "base_uri": "https://localhost:8080/"
        },
        "id": "0hWBmIU_I29l",
        "outputId": "68361905-b170-4acf-c6df-546949fd1bfc"
      },
      "execution_count": null,
      "outputs": [
        {
          "output_type": "stream",
          "name": "stdout",
          "text": [
            "Hello, Alice!\n"
          ]
        }
      ]
    },
    {
      "cell_type": "markdown",
      "source": [
        "#Q3"
      ],
      "metadata": {
        "id": "8H8578_pGXzg"
      }
    },
    {
      "cell_type": "markdown",
      "source": [
        "Standard Function:"
      ],
      "metadata": {
        "id": "dXueapxNI6QQ"
      }
    },
    {
      "cell_type": "code",
      "source": [
        "def add(a, b):\n",
        "    return a + b\n",
        "result = add(3, 5)\n"
      ],
      "metadata": {
        "id": "uYe6OpR4I_E5"
      },
      "execution_count": null,
      "outputs": []
    },
    {
      "cell_type": "markdown",
      "source": [
        "Lambda Function (Anonymous function):"
      ],
      "metadata": {
        "id": "9xFpsAulJEkV"
      }
    },
    {
      "cell_type": "code",
      "source": [
        "add = lambda a, b: a + b\n",
        "result = add(3, 5)\n"
      ],
      "metadata": {
        "id": "0Ax2_NkgJJvU"
      },
      "execution_count": null,
      "outputs": []
    },
    {
      "cell_type": "markdown",
      "source": [
        "Function with Default Arguments:"
      ],
      "metadata": {
        "id": "CpT3KTszJNQt"
      }
    },
    {
      "cell_type": "code",
      "source": [
        "def greet(name=\"World\"):\n",
        "    print(f\"Hello, {name}!\")\n",
        "greet()  # Uses default argument\n",
        "greet(\"Alice\")  # Passes argument explicitly\n"
      ],
      "metadata": {
        "colab": {
          "base_uri": "https://localhost:8080/"
        },
        "id": "uNklUsHyJQ1q",
        "outputId": "827ec5d1-730d-4f18-d2e3-4303ae1d52fb"
      },
      "execution_count": null,
      "outputs": [
        {
          "output_type": "stream",
          "name": "stdout",
          "text": [
            "Hello, World!\n",
            "Hello, Alice!\n"
          ]
        }
      ]
    },
    {
      "cell_type": "markdown",
      "source": [
        "#Q4"
      ],
      "metadata": {
        "id": "XUpiO0YIGX1o"
      }
    },
    {
      "cell_type": "markdown",
      "source": [
        "The return statement is used to exit a function and optionally return a value to the caller. If no value is specified, None is returned by default.\n",
        "\n",
        "Example:"
      ],
      "metadata": {
        "id": "I6TZ6jp1JT3b"
      }
    },
    {
      "cell_type": "code",
      "source": [
        "def add(a, b):\n",
        "    return a + b  # Returns the sum of a and b\n"
      ],
      "metadata": {
        "id": "Gb5rxC3TJXzm"
      },
      "execution_count": null,
      "outputs": []
    },
    {
      "cell_type": "markdown",
      "source": [
        "#Q5"
      ],
      "metadata": {
        "id": "LnlV67WBGX75"
      }
    },
    {
      "cell_type": "markdown",
      "source": [
        "Iterable: An iterable is any Python object capable of returning its members one at a time, permitting it to be iterated over in a loop (e.g., lists, tuples). It implements the __iter__() method, which returns an iterator.\n",
        "\n",
        "Iterator: An iterator is an object representing a stream of data. It is used to iterate over an iterable. It implements two methods: __iter__() and __next__(), where __next__() returns the next item in the sequence.\n",
        "\n",
        "Difference: All iterators are iterable, but not all iterables are iterators. Iterables can be converted into iterators, which can then be used to iterate over the items one by one."
      ],
      "metadata": {
        "id": "SKDdbsKaclpw"
      }
    },
    {
      "cell_type": "markdown",
      "source": [
        "#Q6"
      ],
      "metadata": {
        "id": "GVzl2ErEGX-k"
      }
    },
    {
      "cell_type": "markdown",
      "source": [
        "Generators: A generator is a special type of iterator that is defined using a function with the yield keyword. Generators allow for lazy evaluation, meaning they generate items on the fly as they are needed, rather than generating all items at once and storing them in memory.\n",
        "python\n",
        "Copy code\n"
      ],
      "metadata": {
        "id": "h1T6VJ0JcpEB"
      }
    },
    {
      "cell_type": "code",
      "source": [
        "def count_up_to(max):\n",
        "    count = 1\n",
        "    while count <= max:\n",
        "        yield count\n",
        "        count += 1\n",
        "\n",
        "counter = count_up_to(3)\n",
        "for num in counter:\n",
        "    print(num)  # Output: 1, 2, 3\n"
      ],
      "metadata": {
        "colab": {
          "base_uri": "https://localhost:8080/"
        },
        "id": "y5wJ_NR3cs_Z",
        "outputId": "dc7864c3-dfa7-49a1-a0a6-dbcab8976278"
      },
      "execution_count": 1,
      "outputs": [
        {
          "output_type": "stream",
          "name": "stdout",
          "text": [
            "1\n",
            "2\n",
            "3\n"
          ]
        }
      ]
    },
    {
      "cell_type": "markdown",
      "source": [
        "#Q7"
      ],
      "metadata": {
        "id": "Z6uLqUJhGYBZ"
      }
    },
    {
      "cell_type": "markdown",
      "source": [
        "Memory Efficiency: Generators yield values one at a time and do not store them in memory, unlike regular functions that return a complete list or collection.\n",
        "\n",
        "Performance: Since generators yield values only when required, they can be more efficient, especially when working with large datasets or infinite sequences.\n",
        "\n",
        "Lazy Evaluation: Generators allow you to compute values only when they are needed, which can save computation time."
      ],
      "metadata": {
        "id": "tcmBU5BVcxRU"
      }
    },
    {
      "cell_type": "code",
      "source": [],
      "metadata": {
        "id": "4WZm67LjcwP2"
      },
      "execution_count": null,
      "outputs": []
    },
    {
      "cell_type": "markdown",
      "source": [
        "#Q8"
      ],
      "metadata": {
        "id": "2Af4APPaGYD0"
      }
    },
    {
      "cell_type": "markdown",
      "source": [
        "Lambda Function: A lambda function is a small anonymous function that is defined with the lambda keyword. It can have any number of arguments but only one expression, which is evaluated and returned."
      ],
      "metadata": {
        "id": "YVMXOou3c5uE"
      }
    },
    {
      "cell_type": "code",
      "source": [
        "add = lambda x, y: x + y\n",
        "print(add(3, 5))  # Output: 8\n"
      ],
      "metadata": {
        "colab": {
          "base_uri": "https://localhost:8080/"
        },
        "id": "CcpMGZAcc-Ae",
        "outputId": "c44fa651-4c2b-42f5-980c-8587385563c5"
      },
      "execution_count": 2,
      "outputs": [
        {
          "output_type": "stream",
          "name": "stdout",
          "text": [
            "8\n"
          ]
        }
      ]
    },
    {
      "cell_type": "markdown",
      "source": [
        "Typical Use: Lambda functions are often used in situations where a small function is required temporarily, such as when using functions like map(), filter(), or sorted()."
      ],
      "metadata": {
        "id": "FoavcSbTdCHO"
      }
    },
    {
      "cell_type": "markdown",
      "source": [
        "#Q9"
      ],
      "metadata": {
        "id": "yC7_UGrjGYGr"
      }
    },
    {
      "cell_type": "markdown",
      "source": [
        "The map() function applies a given function to all items in an iterable (like a list) and returns a map object (an iterator). It allows for efficient processing of sequences without the need for a loop."
      ],
      "metadata": {
        "id": "JFKb8i_FdGXZ"
      }
    },
    {
      "cell_type": "code",
      "source": [
        "def square(x):\n",
        "    return x ** 2\n",
        "\n",
        "numbers = [1, 2, 3, 4]\n",
        "result = map(square, numbers)\n",
        "print(list(result))  # Output: [1, 4, 9, 16]\n"
      ],
      "metadata": {
        "colab": {
          "base_uri": "https://localhost:8080/"
        },
        "id": "y3Q79QLNdJqq",
        "outputId": "1cb34cae-1ad7-4406-e27a-2e95184c51e0"
      },
      "execution_count": 3,
      "outputs": [
        {
          "output_type": "stream",
          "name": "stdout",
          "text": [
            "[1, 4, 9, 16]\n"
          ]
        }
      ]
    },
    {
      "cell_type": "markdown",
      "source": [
        "#Q10"
      ],
      "metadata": {
        "id": "fZl2vA9kGYJW"
      }
    },
    {
      "cell_type": "markdown",
      "source": [
        "map(): Applies a function to all items in an iterable and returns an iterator.\n",
        "python\n",
        "Copy code\n"
      ],
      "metadata": {
        "id": "_DZPdq9GdMy0"
      }
    },
    {
      "cell_type": "code",
      "source": [
        "#result = map(func, iterable)\n"
      ],
      "metadata": {
        "id": "u0mgh1OFdURw"
      },
      "execution_count": 5,
      "outputs": []
    },
    {
      "cell_type": "markdown",
      "source": [
        "reduce(): From the functools module, it applies a binary function (i.e., a function with two arguments) cumulatively to the items of an iterable, reducing it to a single value.\n",
        "python\n",
        "Copy code\n"
      ],
      "metadata": {
        "id": "mJ2N9laedddh"
      }
    },
    {
      "cell_type": "code",
      "source": [
        "#from functools import reduce\n",
        "#result = reduce(func, iterable)\n"
      ],
      "metadata": {
        "id": "9cclKFLrdici"
      },
      "execution_count": 7,
      "outputs": []
    },
    {
      "cell_type": "markdown",
      "source": [
        "filter(): Filters items from an iterable based on a function that returns a boolean value. It only includes elements where the function returns True.\n",
        "python\n",
        "Copy code\n"
      ],
      "metadata": {
        "id": "MHC33gPWdtdJ"
      }
    },
    {
      "cell_type": "code",
      "source": [
        "#result = filter(func, iterable)\n"
      ],
      "metadata": {
        "id": "ynoP1zDlduNC"
      },
      "execution_count": 8,
      "outputs": []
    },
    {
      "cell_type": "markdown",
      "source": [
        "#Q11"
      ],
      "metadata": {
        "id": "a_7SAjpShlzS"
      }
    },
    {
      "cell_type": "markdown",
      "source": [
        "![q11.jpg](data:image/jpeg;base64,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)"
      ],
      "metadata": {
        "id": "XZc0hfF9GYL8"
      }
    },
    {
      "cell_type": "code",
      "source": [],
      "metadata": {
        "id": "kHffqhLRgg0J"
      },
      "execution_count": null,
      "outputs": []
    },
    {
      "cell_type": "code",
      "source": [],
      "metadata": {
        "id": "ANnYWAqsHYlZ"
      },
      "execution_count": null,
      "outputs": []
    },
    {
      "cell_type": "markdown",
      "source": [
        "#PRACTICAL QUESTIONS"
      ],
      "metadata": {
        "id": "F6b4FBFDHZFQ"
      }
    },
    {
      "cell_type": "markdown",
      "source": [
        "#Q12"
      ],
      "metadata": {
        "id": "yKZXjfhhGYOY"
      }
    },
    {
      "cell_type": "code",
      "source": [
        "def sum_of_even_numbers(numbers):\n",
        "    return sum(num for num in numbers if num % 2 == 0)\n",
        "\n",
        "# Example usage:\n",
        "numbers = [1, 2, 3, 4, 5, 6]\n",
        "print(sum_of_even_numbers(numbers))\n",
        "\n"
      ],
      "metadata": {
        "colab": {
          "base_uri": "https://localhost:8080/"
        },
        "id": "r5PZns9bhxdf",
        "outputId": "d702fba0-9166-45d5-941b-b4b1d1ae9e3f"
      },
      "execution_count": 9,
      "outputs": [
        {
          "output_type": "stream",
          "name": "stdout",
          "text": [
            "12\n"
          ]
        }
      ]
    },
    {
      "cell_type": "markdown",
      "source": [
        "#Q13"
      ],
      "metadata": {
        "id": "iniZzYP6GYQ6"
      }
    },
    {
      "cell_type": "code",
      "source": [
        "def reverse_string(s):\n",
        "    return s[::-1]\n",
        "\n",
        "# Example usage:\n",
        "input_string = \"Hello, World!\"\n",
        "print(reverse_string(input_string))\n"
      ],
      "metadata": {
        "colab": {
          "base_uri": "https://localhost:8080/"
        },
        "id": "LbuZjSLfhyYI",
        "outputId": "92587597-c0ec-4325-8e70-58f46ad23c19"
      },
      "execution_count": 10,
      "outputs": [
        {
          "output_type": "stream",
          "name": "stdout",
          "text": [
            "!dlroW ,olleH\n"
          ]
        }
      ]
    },
    {
      "cell_type": "markdown",
      "source": [
        "#Q14"
      ],
      "metadata": {
        "id": "4mBJYLeHGYTi"
      }
    },
    {
      "cell_type": "code",
      "source": [
        "def square_numbers(numbers):\n",
        "    return [num ** 2 for num in numbers]\n",
        "\n",
        "# Example usage:\n",
        "numbers = [1, 2, 3, 4, 5]\n",
        "print(square_numbers(numbers))\n"
      ],
      "metadata": {
        "colab": {
          "base_uri": "https://localhost:8080/"
        },
        "id": "eOji3OkAhzPf",
        "outputId": "8273ae83-ee32-4153-df27-536e5c757a96"
      },
      "execution_count": 11,
      "outputs": [
        {
          "output_type": "stream",
          "name": "stdout",
          "text": [
            "[1, 4, 9, 16, 25]\n"
          ]
        }
      ]
    },
    {
      "cell_type": "markdown",
      "source": [
        "#Q15"
      ],
      "metadata": {
        "id": "0_QqKlNLGYWd"
      }
    },
    {
      "cell_type": "code",
      "source": [
        "def is_prime(n):\n",
        "    if n < 2:\n",
        "        return False\n",
        "    for i in range(2, int(n ** 0.5) + 1):\n",
        "        if n % i == 0:\n",
        "            return False\n",
        "    return True\n",
        "\n",
        "# Example usage:\n",
        "for num in range(1, 201):\n",
        "    if is_prime(num):\n",
        "        print(num, end=\" \")\n"
      ],
      "metadata": {
        "colab": {
          "base_uri": "https://localhost:8080/"
        },
        "id": "qe6P7831h0E2",
        "outputId": "6f11182b-b958-44b8-9d4f-7aed7ff9012c"
      },
      "execution_count": 12,
      "outputs": [
        {
          "output_type": "stream",
          "name": "stdout",
          "text": [
            "2 3 5 7 11 13 17 19 23 29 31 37 41 43 47 53 59 61 67 71 73 79 83 89 97 101 103 107 109 113 127 131 137 139 149 151 157 163 167 173 179 181 191 193 197 199 "
          ]
        }
      ]
    },
    {
      "cell_type": "markdown",
      "source": [
        "#Q16"
      ],
      "metadata": {
        "id": "pS5vunMYGYZS"
      }
    },
    {
      "cell_type": "code",
      "source": [
        "class FibonacciIterator:\n",
        "    def __init__(self, n):\n",
        "        self.n = n\n",
        "        self.a, self.b = 0, 1\n",
        "        self.count = 0\n",
        "\n",
        "    def __iter__(self):\n",
        "        return self\n",
        "\n",
        "    def __next__(self):\n",
        "        if self.count < self.n:\n",
        "            result = self.a\n",
        "            self.a, self.b = self.b, self.a + self.b\n",
        "            self.count += 1\n",
        "            return result\n",
        "        else:\n",
        "            raise StopIteration\n",
        "\n",
        "# Example usage:\n",
        "fib = FibonacciIterator(10)\n",
        "for number in fib:\n",
        "    print(number, end=\" \")\n"
      ],
      "metadata": {
        "colab": {
          "base_uri": "https://localhost:8080/"
        },
        "id": "faBk21V8h0wT",
        "outputId": "be718989-f0b6-4bd9-dc4a-0f3a7432f415"
      },
      "execution_count": 13,
      "outputs": [
        {
          "output_type": "stream",
          "name": "stdout",
          "text": [
            "0 1 1 2 3 5 8 13 21 34 "
          ]
        }
      ]
    },
    {
      "cell_type": "markdown",
      "source": [
        "#Q17"
      ],
      "metadata": {
        "id": "6M_DfP0LGYcH"
      }
    },
    {
      "cell_type": "code",
      "source": [
        "def powers_of_two(exponent):\n",
        "    n = 0\n",
        "    while n <= exponent:\n",
        "        yield 2 ** n\n",
        "        n += 1\n",
        "\n",
        "# Example usage:\n",
        "for power in powers_of_two(5):\n",
        "    print(power, end=\" \")\n"
      ],
      "metadata": {
        "colab": {
          "base_uri": "https://localhost:8080/"
        },
        "id": "5uPOuGUNh1id",
        "outputId": "e94d754e-1378-4695-daaf-5aeaf2c941a0"
      },
      "execution_count": 14,
      "outputs": [
        {
          "output_type": "stream",
          "name": "stdout",
          "text": [
            "1 2 4 8 16 32 "
          ]
        }
      ]
    },
    {
      "cell_type": "markdown",
      "source": [
        "#Q18"
      ],
      "metadata": {
        "id": "rzZGnazfGYfT"
      }
    },
    {
      "cell_type": "code",
      "source": [
        "def read_file_line_by_line(file_path):\n",
        "    with open(file_path, 'r') as file:\n",
        "        for line in file:\n",
        "            yield line.strip()\n",
        "\n",
        "# Example usage:\n",
        "# Assuming there's a text file 'example.txt' with some content.\n",
        "# for line in read_file_line_by_line('example.txt'):\n",
        "#     print(line)\n"
      ],
      "metadata": {
        "id": "TvQLqKzqh2dh"
      },
      "execution_count": 15,
      "outputs": []
    },
    {
      "cell_type": "markdown",
      "source": [
        "#Q19"
      ],
      "metadata": {
        "id": "E9IyQYWrGYiC"
      }
    },
    {
      "cell_type": "code",
      "source": [
        "data = [(1, 5), (2, 3), (4, 1), (3, 4)]\n",
        "sorted_data = sorted(data, key=lambda x: x[1])\n",
        "\n",
        "print(sorted_data)\n"
      ],
      "metadata": {
        "colab": {
          "base_uri": "https://localhost:8080/"
        },
        "id": "FJMhqyydh3FZ",
        "outputId": "de75038f-dfe6-4b82-ccbd-c3dc0f125dae"
      },
      "execution_count": 16,
      "outputs": [
        {
          "output_type": "stream",
          "name": "stdout",
          "text": [
            "[(4, 1), (2, 3), (3, 4), (1, 5)]\n"
          ]
        }
      ]
    },
    {
      "cell_type": "markdown",
      "source": [
        "#Q20"
      ],
      "metadata": {
        "id": "DMigKX5VGYlT"
      }
    },
    {
      "cell_type": "code",
      "source": [
        "def celsius_to_fahrenheit(celsius):\n",
        "    return (celsius * 9/5) + 32\n",
        "\n",
        "# Example usage:\n",
        "celsius = [0, 20, 100, -10]\n",
        "fahrenheit = list(map(celsius_to_fahrenheit, celsius))\n",
        "print(fahrenheit)\n"
      ],
      "metadata": {
        "colab": {
          "base_uri": "https://localhost:8080/"
        },
        "id": "5cGOA1NTh3xF",
        "outputId": "f8dc0a08-f3e8-4ed8-94c1-b6861168f285"
      },
      "execution_count": 17,
      "outputs": [
        {
          "output_type": "stream",
          "name": "stdout",
          "text": [
            "[32.0, 68.0, 212.0, 14.0]\n"
          ]
        }
      ]
    },
    {
      "cell_type": "markdown",
      "source": [
        "#Q21"
      ],
      "metadata": {
        "id": "UHZV_0N2GYn0"
      }
    },
    {
      "cell_type": "code",
      "source": [
        "def remove_vowels(s):\n",
        "    return ''.join(filter(lambda x: x.lower() not in 'aeiou', s))\n",
        "\n",
        "# Example usage:\n",
        "input_string = \"Hello, World!\"\n",
        "print(remove_vowels(input_string))\n"
      ],
      "metadata": {
        "colab": {
          "base_uri": "https://localhost:8080/"
        },
        "id": "f2OOtsJPh5BO",
        "outputId": "a5a2de45-401e-4e47-8e07-bf169eaf6a60"
      },
      "execution_count": 18,
      "outputs": [
        {
          "output_type": "stream",
          "name": "stdout",
          "text": [
            "Hll, Wrld!\n"
          ]
        }
      ]
    },
    {
      "cell_type": "markdown",
      "source": [
        "#Q22"
      ],
      "metadata": {
        "id": "t3XjJ8k1GYqh"
      }
    },
    {
      "cell_type": "code",
      "source": [],
      "metadata": {
        "colab": {
          "base_uri": "https://localhost:8080/",
          "height": 211
        },
        "id": "ICLelSNdh53p",
        "outputId": "d1c82faa-0e76-4221-ba3d-70a4790b58ab"
      },
      "execution_count": 19,
      "outputs": [
        {
          "output_type": "error",
          "ename": "NameError",
          "evalue": "name 'orders' is not defined",
          "traceback": [
            "\u001b[0;31m---------------------------------------------------------------------------\u001b[0m",
            "\u001b[0;31mNameError\u001b[0m                                 Traceback (most recent call last)",
            "\u001b[0;32m<ipython-input-19-e69ed282babd>\u001b[0m in \u001b[0;36m<cell line: 10>\u001b[0;34m()\u001b[0m\n\u001b[1;32m      8\u001b[0m \u001b[0;34m\u001b[0m\u001b[0m\n\u001b[1;32m      9\u001b[0m \u001b[0;31m# Using map and lambda to process the orders\u001b[0m\u001b[0;34m\u001b[0m\u001b[0;34m\u001b[0m\u001b[0m\n\u001b[0;32m---> 10\u001b[0;31m \u001b[0mresult\u001b[0m \u001b[0;34m=\u001b[0m \u001b[0mlist\u001b[0m\u001b[0;34m(\u001b[0m\u001b[0mmap\u001b[0m\u001b[0;34m(\u001b[0m\u001b[0;32mlambda\u001b[0m \u001b[0morder\u001b[0m\u001b[0;34m:\u001b[0m \u001b[0mcalculate_total\u001b[0m\u001b[0;34m(\u001b[0m\u001b[0morder\u001b[0m\u001b[0;34m)\u001b[0m\u001b[0;34m,\u001b[0m \u001b[0morders\u001b[0m\u001b[0;34m)\u001b[0m\u001b[0;34m)\u001b[0m\u001b[0;34m\u001b[0m\u001b[0;34m\u001b[0m\u001b[0m\n\u001b[0m\u001b[1;32m     11\u001b[0m \u001b[0;34m\u001b[0m\u001b[0m\n\u001b[1;32m     12\u001b[0m \u001b[0;31m# Displaying the result\u001b[0m\u001b[0;34m\u001b[0m\u001b[0;34m\u001b[0m\u001b[0m\n",
            "\u001b[0;31mNameError\u001b[0m: name 'orders' is not defined"
          ]
        }
      ]
    },
    {
      "cell_type": "markdown",
      "source": [],
      "metadata": {
        "id": "lYmpZaNSGYtA"
      }
    },
    {
      "cell_type": "markdown",
      "source": [],
      "metadata": {
        "id": "GtXaoonFGYvx"
      }
    },
    {
      "cell_type": "markdown",
      "source": [],
      "metadata": {
        "id": "HRLpedBCGYyS"
      }
    },
    {
      "cell_type": "markdown",
      "source": [],
      "metadata": {
        "id": "_78jwB22GY1I"
      }
    },
    {
      "cell_type": "markdown",
      "source": [],
      "metadata": {
        "id": "GD5xFydOGZfz"
      }
    },
    {
      "cell_type": "markdown",
      "source": [],
      "metadata": {
        "id": "zMPQRCXzGZjE"
      }
    },
    {
      "cell_type": "markdown",
      "source": [],
      "metadata": {
        "id": "rdwXcJLRGZuH"
      }
    },
    {
      "cell_type": "markdown",
      "source": [],
      "metadata": {
        "id": "L9MQEwHHGZxK"
      }
    },
    {
      "cell_type": "markdown",
      "source": [],
      "metadata": {
        "id": "QD8lMXI2GZz0"
      }
    },
    {
      "cell_type": "markdown",
      "source": [],
      "metadata": {
        "id": "3VEMiWjuGZ3d"
      }
    }
  ]
}